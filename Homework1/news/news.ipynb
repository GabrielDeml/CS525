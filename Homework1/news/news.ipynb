{
 "cells": [
  {
   "cell_type": "code",
   "execution_count": 1,
   "source": [
    "import nltk\n",
    "import pandas as pd\n",
    "import string\n",
    "from nltk.probability import FreqDist\n",
    "import matplotlib.pyplot as plt"
   ],
   "outputs": [],
   "metadata": {}
  },
  {
   "cell_type": "code",
   "execution_count": 2,
   "source": [
    "# import the Fake.csv and True.csv files\n",
    "fake = pd.read_csv('Fake.csv')\n",
    "true = pd.read_csv('True.csv')"
   ],
   "outputs": [],
   "metadata": {}
  },
  {
   "cell_type": "code",
   "execution_count": null,
   "source": [
    "fake.head()"
   ],
   "outputs": [],
   "metadata": {}
  },
  {
   "cell_type": "code",
   "execution_count": null,
   "source": [
    "true.head()"
   ],
   "outputs": [],
   "metadata": {}
  },
  {
   "cell_type": "code",
   "execution_count": null,
   "source": [
    "true.info()"
   ],
   "outputs": [],
   "metadata": {}
  },
  {
   "cell_type": "code",
   "execution_count": null,
   "source": [
    "true.text.value_counts()"
   ],
   "outputs": [],
   "metadata": {}
  },
  {
   "cell_type": "code",
   "execution_count": 3,
   "source": [
    "true_string = ''.join(true[\"text\"])\n",
    "true_tokenized = nltk.word_tokenize(true_string)"
   ],
   "outputs": [],
   "metadata": {}
  },
  {
   "cell_type": "code",
   "execution_count": 4,
   "source": [
    "true_tokenized = [word.lower() for word in true_tokenized if word.isalpha()]"
   ],
   "outputs": [],
   "metadata": {}
  },
  {
   "cell_type": "code",
   "execution_count": 5,
   "source": [
    "fdist_true = FreqDist(true_tokenized)\n",
    "print(fdist_true.most_common(100))"
   ],
   "outputs": [
    {
     "output_type": "stream",
     "name": "stdout",
     "text": [
      "[('the', 482174), ('to', 245124), ('of', 204957), ('a', 197860), ('and', 181686), ('in', 180668), ('on', 108342), ('s', 99899), ('said', 99024), ('that', 88095), ('for', 79728), ('is', 55428), ('with', 54485), ('he', 54368), ('trump', 54238), ('it', 49335), ('was', 47940), ('by', 47637), ('as', 47307), ('has', 46242), ('from', 39376), ('his', 38016), ('not', 37589), ('have', 36413), ('be', 34291), ('at', 33164), ('an', 32710), ('would', 31524), ('reuters', 28412), ('who', 27642), ('but', 26596), ('president', 26386), ('are', 26125), ('had', 25672), ('will', 25238), ('we', 22163), ('they', 22064), ('its', 21319), ('this', 21019), ('which', 20809), ('state', 19726), ('been', 19598), ('after', 19375), ('were', 18916), ('government', 18285), ('about', 17422), ('more', 17192), ('i', 17020), ('their', 16826), ('new', 16743), ('house', 16513), ('states', 16506), ('also', 15946), ('united', 15575), ('republican', 15346), ('people', 15126), ('or', 15107), ('told', 14244), ('over', 13839), ('could', 13709), ('some', 12751), ('one', 12670), ('last', 12612), ('if', 12538), ('party', 12434), ('washington', 12238), ('she', 11721), ('there', 11636), ('two', 11619), ('other', 11578), ('election', 11474), ('than', 11299), ('against', 10999), ('year', 10968), ('up', 10964), ('no', 10751), ('former', 10601), ('campaign', 10554), ('out', 10550), ('when', 10509), ('donald', 10447), ('her', 10401), ('security', 10071), ('percent', 9936), ('north', 9868), ('into', 9696), ('clinton', 9453), ('can', 9450), ('white', 9443), ('court', 9404), ('senate', 9204), ('obama', 9197), ('all', 9157), ('any', 9099), ('country', 8685), ('minister', 8660), ('china', 8561), ('first', 8546), ('officials', 8474), ('what', 8354)]\n"
     ]
    }
   ],
   "metadata": {}
  },
  {
   "cell_type": "code",
   "execution_count": 6,
   "source": [
    "fdist_true.plot(10,cumulative=False)\n",
    "plt.savefig('true_freq.png', dpi=100)\n",
    "plt.show()\n"
   ],
   "outputs": [
    {
     "output_type": "display_data",
     "data": {
      "image/png": "[encoded data removed]",
      "text/plain": [
       "<Figure size 432x288 with 1 Axes>"
      ]
     },
     "metadata": {
      "needs_background": "light"
     }
    },
    {
     "output_type": "display_data",
     "data": {
      "text/plain": [
       "<Figure size 432x288 with 0 Axes>"
      ]
     },
     "metadata": {}
    }
   ],
   "metadata": {}
  },
  {
   "cell_type": "code",
   "execution_count": 4,
   "source": [
    "fake_string = ''.join(fake[\"text\"])\n",
    "fake_tokenized = nltk.word_tokenize(fake_string)"
   ],
   "outputs": [],
   "metadata": {}
  },
  {
   "cell_type": "code",
   "execution_count": 9,
   "source": [
    "from sklearn.feature_extraction.text import CountVectorizer\n",
    "from nltk.tokenize import RegexpTokenizer\n",
    "#tokenizer to remove unwanted elements from out data like symbols and numbers\n",
    "token = RegexpTokenizer(r'[a-zA-Z0-9]+')\n",
    "cv = CountVectorizer(lowercase=True,stop_words='english',ngram_range = (1,1),tokenizer = token.tokenize)\n",
    "text_counts= cv.fit_transform(true['text'])"
   ],
   "outputs": [],
   "metadata": {}
  },
  {
   "cell_type": "code",
   "execution_count": 10,
   "source": [
    "print(text_counts)"
   ],
   "outputs": [
    {
     "output_type": "stream",
     "name": "stdout",
     "text": [
      "  (0, 64092)\t2\n",
      "  (0, 50575)\t1\n",
      "  (0, 27183)\t1\n",
      "  (0, 14368)\t3\n",
      "  (0, 50173)\t6\n",
      "  (0, 21787)\t1\n",
      "  (0, 61380)\t4\n",
      "  (0, 51847)\t9\n",
      "  (0, 14279)\t2\n",
      "  (0, 63697)\t3\n",
      "  (0, 39572)\t1\n",
      "  (0, 28553)\t1\n",
      "  (0, 21451)\t1\n",
      "  (0, 40778)\t2\n",
      "  (0, 16423)\t3\n",
      "  (0, 44680)\t3\n",
      "  (0, 58918)\t8\n",
      "  (0, 15830)\t3\n",
      "  (0, 11011)\t1\n",
      "  (0, 22816)\t3\n",
      "  (0, 57767)\t2\n",
      "  (0, 62616)\t1\n",
      "  (0, 10401)\t5\n",
      "  (0, 50410)\t1\n",
      "  (0, 977)\t3\n",
      "  :\t:\n",
      "  (21416, 14260)\t1\n",
      "  (21416, 39298)\t1\n",
      "  (21416, 31499)\t2\n",
      "  (21416, 58969)\t1\n",
      "  (21416, 57970)\t1\n",
      "  (21416, 3807)\t1\n",
      "  (21416, 22681)\t1\n",
      "  (21416, 13825)\t3\n",
      "  (21416, 16650)\t1\n",
      "  (21416, 29754)\t3\n",
      "  (21416, 3143)\t1\n",
      "  (21416, 47534)\t1\n",
      "  (21416, 2075)\t1\n",
      "  (21416, 51432)\t1\n",
      "  (21416, 31158)\t1\n",
      "  (21416, 57407)\t1\n",
      "  (21416, 57678)\t1\n",
      "  (21416, 1846)\t1\n",
      "  (21416, 51821)\t1\n",
      "  (21416, 51820)\t1\n",
      "  (21416, 57651)\t1\n",
      "  (21416, 20434)\t1\n",
      "  (21416, 36039)\t1\n",
      "  (21416, 45188)\t1\n",
      "  (21416, 45003)\t1\n"
     ]
    }
   ],
   "metadata": {}
  },
  {
   "cell_type": "code",
   "execution_count": 4,
   "source": [
    "# Clean the csv text data\n",
    "true_word = []\t\n",
    "for i in true[\"text\"]:\n",
    "\ttrue_word.append(nltk.word_tokenize(i.translate(string.punctuation)))\n",
    "\n"
   ],
   "outputs": [],
   "metadata": {}
  },
  {
   "cell_type": "code",
   "execution_count": 6,
   "source": [
    "fake_word = []\n",
    "for i in fake[\"text\"]:\n",
    "\tfake_word.append(nltk.word_tokenize(i.translate(string.punctuation)))"
   ],
   "outputs": [],
   "metadata": {}
  },
  {
   "cell_type": "code",
   "execution_count": 5,
   "source": [
    "from nltk.probability import FreqDist\n",
    "fdist_true = FreqDist(true_tokenized)\n",
    "fdist_fake = FreqDist(fake_tokenized)\n",
    "print(fdist_true)\n",
    "print(fdist_true.most_common(100))\n",
    "print(fdist_fake)\n",
    "print(fdist_fake.most_common(100))"
   ],
   "outputs": [
    {
     "output_type": "stream",
     "name": "stdout",
     "text": [
      "<FreqDist with 100790 samples and 9319418 outcomes>\n",
      "[('the', 423510), (',', 406264), ('.', 311664), ('to', 244387), ('of', 204603), ('a', 188094), ('and', 179988), ('in', 170291), ('on', 105346), ('s', 99647), ('said', 99008), ('that', 84930), ('for', 78200), ('’', 70768), ('The', 58563), ('is', 55086), ('Trump', 54202), ('“', 54140), ('”', 53861), ('with', 53304), ('was', 47910), ('by', 47000), ('has', 46220), ('as', 45269), ('he', 44217), ('from', 39079), ('it', 38644), ('not', 37300), ('U.S.', 36966), ('have', 36393), ('his', 36257), (')', 35408), ('(', 35393), ('be', 34252), ('would', 31481), ('an', 31388), ('-', 31067), ('at', 30994), ('Reuters', 28363), ('who', 27438), ('are', 26048), ('had', 25646), ('will', 25095), ('its', 20972), ('which', 20792), ('been', 19597), ('were', 18892), ('they', 18344), ('but', 18250), ('after', 17896), ('government', 17589), ('President', 17409), ('I', 17001), ('about', 16990), ('this', 16847), ('their', 16504), ('more', 16234), ('also', 15744), ('House', 15363), ('Republican', 15332), ('or', 15064), ('United', 15048), ('told', 14241), ('people', 14231), ('could', 13684), ('over', 13600), ('we', 12436), ('States', 12256), ('state', 12071), ('last', 11635), ('than', 11291), ('election', 11116), ('other', 11043), ('against', 10918), ('up', 10907), ('year', 10901), ('one', 10898), ('It', 10610), ('out', 10519), ('two', 10461), ('Donald', 10443), ('some', 10411), ('campaign', 10380), ('In', 10329), ('He', 10146), ('her', 9952), ('percent', 9931), ('former', 9914), ('$', 9898), ('A', 9766), ('We', 9721), ('into', 9692), ('she', 9497), ('new', 9478), ('Clinton', 9446), ('no', 9431), ('can', 9360), ('if', 9265), ('North', 9246), ('Obama', 9195)]\n",
      "<FreqDist with 207430 samples and 11020064 outcomes>\n",
      "[('the', 483869), (',', 483695), ('.', 295574), ('to', 287018), ('of', 233763), ('and', 214709), ('a', 203635), ('in', 154159), ('that', 143517), ('s', 128863), ('is', 108577), ('for', 89271), ('on', 78295), ('Trump', 73159), ('was', 67244), ('he', 62630), ('it', 62255), ('with', 61547), (':', 60195), ('his', 55957), ('as', 51849), ('be', 48237), ('by', 45982), ('have', 45655), ('are', 45483), ('not', 44243), ('this', 44183), ('I', 43566), (')', 42754), ('(', 42446), ('has', 41999), ('who', 41243), ('The', 41223), ('t', 40157), ('from', 39697), ('at', 38555), ('they', 37233), ('an', 34010), ('you', 33199), ('about', 32425), ('said', 31001), ('their', 29604), ('?', 28310), ('@', 28177), ('we', 26527), ('her', 24931), ('people', 24779), ('or', 24043), ('but', 23485), ('will', 23391), ('would', 23218), ('been', 22914), ('out', 22596), ('all', 22595), ('were', 21475), ('what', 20591), ('she', 20494), ('more', 20336), ('had', 20265), ('one', 20191), ('can', 20067), ('just', 18632), ('our', 18204), ('Clinton', 17957), ('up', 17946), ('when', 17818), ('Obama', 17716), ('which', 17219), ('like', 17032), ('!', 16976), ('him', 16691), ('President', 16328), ('Donald', 16134), ('It', 16128), ('if', 15928), ('no', 15320), ('so', 15147), ('He', 14831), ('also', 14757), ('there', 14627), ('do', 14510), ('after', 14375), ('because', 14128), ('them', 13776), ('than', 13635), ('over', 13530), ('Hillary', 13464), ('into', 13314), ('other', 12822), ('even', 12519), ('only', 12265), ('time', 12130), ('how', 12108), ('being', 11895), ('We', 11259), ('any', 11101), ('now', 10971), ('re', 10895), ('against', 10827), ('should', 10629)]\n"
     ]
    }
   ],
   "metadata": {}
  },
  {
   "cell_type": "code",
   "execution_count": null,
   "source": [
    "\n",
    "for w in true[\"text\"]:\n",
    "\tprint(w, end=\"\")\n",
    "# true = nltk.word_tokenize(true[\"text\"][0])"
   ],
   "outputs": [],
   "metadata": {}
  },
  {
   "cell_type": "code",
   "execution_count": null,
   "source": [
    "tex"
   ],
   "outputs": [],
   "metadata": {}
  }
 ],
 "metadata": {
  "orig_nbformat": 4,
  "language_info": {
   "name": "python",
   "version": "3.9.7",
   "mimetype": "text/x-python",
   "codemirror_mode": {
    "name": "ipython",
    "version": 3
   },
   "pygments_lexer": "ipython3",
   "nbconvert_exporter": "python",
   "file_extension": ".py"
  },
  "kernelspec": {
   "name": "python3",
   "display_name": "Python 3.9.7 64-bit"
  },
  "interpreter": {
   "hash": "e7370f93d1d0cde622a1f8e1c04877d8463912d04d973331ad4851f04de6915a"
  }
 },
 "nbformat": 4,
 "nbformat_minor": 2
}