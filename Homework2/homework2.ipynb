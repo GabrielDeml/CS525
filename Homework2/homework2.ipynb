{
 "cells": [
  {
   "cell_type": "code",
   "execution_count": 1,
   "metadata": {},
   "outputs": [],
   "source": [
    "import nltk\n",
    "import string\n",
    "import scipy\n",
    "import pandas as pd\n",
    "import numpy as np\n",
    "import matplotlib.pyplot as plt\n",
    "import string\n",
    "from multiprocessing import Pool, TimeoutError"
   ]
  },
  {
   "cell_type": "code",
   "execution_count": 2,
   "metadata": {},
   "outputs": [],
   "source": [
    "# Read in the data\n",
    "reviews = pd.read_csv('Reviews.csv')\n",
    "reviews = reviews.sample(frac=0.2)"
   ]
  },
  {
   "cell_type": "code",
   "execution_count": 3,
   "metadata": {},
   "outputs": [],
   "source": [
    "# Clean the data\n",
    "from nltk.corpus import stopwords\n",
    "stop_words = stopwords.words('english')\n",
    "reviews_without_stopwords = [word for word in reviews['Text'].str.split() if word not in stop_words]"
   ]
  },
  {
   "cell_type": "code",
   "execution_count": 4,
   "metadata": {},
   "outputs": [],
   "source": [
    "punctuation = list(string.punctuation)"
   ]
  },
  {
   "cell_type": "code",
   "execution_count": 22,
   "metadata": {},
   "outputs": [],
   "source": [
    "# Set everything to lower case and remove punctuation\n",
    "reviews_without_stopwords_or_punctuation = []\n",
    "# reviews_without_stopwords_or_punctuation_full_list = []\n",
    "for st in reviews_without_stopwords:\n",
    "\ttmp = []\n",
    "\tfor word in st:\n",
    "\t\tif word not in punctuation:\n",
    "\t\t\ttmp.append(word.lower())\n",
    "\t\t\t# reviews_without_stopwords_or_punctuation_full_list.append(word.lower())\n",
    "\treviews_without_stopwords_or_punctuation.append(tmp)"
   ]
  },
  {
   "cell_type": "code",
   "execution_count": 23,
   "metadata": {},
   "outputs": [
    {
     "name": "stdout",
     "output_type": "stream",
     "text": [
      "[\"amazon's\", 'subscribe', 'and', 'save', 'program', 'has', 'the', 'best', 'deal', 'on', 'these', 'that', 'i', 'have', 'found', 'so', 'far.', 'these', 'taste', 'very', 'good', 'and', 'i', 'feel', 'good', 'about', 'my', 'kids', 'snacking', 'on', 'these', 'when', 'we', 'are', 'out', 'and', 'about.', 'they', 'are', 'so', 'easy', 'to', 'toss', 'in', 'your', 'purse.', 'i', 'do', 'not', 'keep', 'candy', 'around', 'so', 'my', 'kids', 'view', 'these', 'as', 'their', 'sweet', 'treat.']\n",
      "113691\n"
     ]
    }
   ],
   "source": [
    "# print(len(reviews_without_stopwords_or_punctuation))\n",
    "print(reviews_without_stopwords_or_punctuation[0])\n",
    "print(len(reviews_without_stopwords_or_punctuation))\n",
    "# print(reviews['Score'])"
   ]
  },
  {
   "cell_type": "code",
   "execution_count": 31,
   "metadata": {},
   "outputs": [],
   "source": [
    "from nltk.stem import WordNetLemmatizer\n",
    "lemmatizer = WordNetLemmatizer()\n",
    "\n",
    "\n",
    "def lemmatize_string(word_list):\n",
    "\treturn ' '.join([lemmatizer.lemmatize(words) for words in word_list])\n",
    "\n",
    "with Pool(processes=8) as pool:\n",
    "\treviews_without_stopwords_or_punctuation_lemmatize = pool.map(lemmatize_string, reviews_without_stopwords_or_punctuation)"
   ]
  },
  {
   "cell_type": "code",
   "execution_count": 32,
   "metadata": {},
   "outputs": [
    {
     "data": {
      "text/plain": [
       "'i love the flavor of sliver of chewy coconut, honey and almond it really doe taste great to me.so far this is my favorite kind'"
      ]
     },
     "execution_count": 32,
     "metadata": {},
     "output_type": "execute_result"
    }
   ],
   "source": [
    "reviews_without_stopwords_or_punctuation_lemmatize[1]"
   ]
  },
  {
   "cell_type": "code",
   "execution_count": 33,
   "metadata": {},
   "outputs": [],
   "source": [
    "from nltk.tokenize import RegexpTokenizer\n",
    "from sklearn.feature_extraction.text import CountVectorizer\n",
    "token = RegexpTokenizer(r'[a-zA-Z0-9]+')\n",
    "cv = CountVectorizer(lowercase=True, stop_words=None,\n",
    "                     ngram_range=(1, 1), tokenizer=token.tokenize)\n",
    "reviews_tokenized = cv.fit_transform(reviews_without_stopwords_or_punctuation_lemmatize)"
   ]
  },
  {
   "cell_type": "code",
   "execution_count": 34,
   "metadata": {},
   "outputs": [
    {
     "name": "stdout",
     "output_type": "stream",
     "text": [
      "(113691, 59126)\n"
     ]
    }
   ],
   "source": [
    "print(reviews_tokenized.shape)"
   ]
  },
  {
   "cell_type": "code",
   "execution_count": 35,
   "metadata": {},
   "outputs": [],
   "source": [
    "review_score = [int(i) for i in reviews['Score']]"
   ]
  },
  {
   "cell_type": "code",
   "execution_count": 36,
   "metadata": {},
   "outputs": [],
   "source": [
    "from sklearn.model_selection import train_test_split\n",
    "X_train, X_test, y_train, y_test = train_test_split(reviews_tokenized, review_score, test_size=0.2, random_state=0)"
   ]
  },
  {
   "cell_type": "code",
   "execution_count": 37,
   "metadata": {},
   "outputs": [
    {
     "name": "stdout",
     "output_type": "stream",
     "text": [
      "Decision Tree Accuracy: 0.6695545098729055\n",
      "Precision: 0.4858570822144527\n",
      "Recall: 0.4634099440996378\n"
     ]
    }
   ],
   "source": [
    "from sklearn.tree import DecisionTreeClassifier \n",
    "from sklearn import metrics\n",
    "clf = DecisionTreeClassifier().fit(X_train, y_train)\n",
    "predicted= clf.predict(X_test)\n",
    "print(\"Decision Tree Accuracy:\",metrics.accuracy_score(y_test, predicted))\n",
    "print(\"Precision: \" + str(metrics.precision_score(y_test, predicted, average='macro')))\n",
    "print(\"Recall: \" + str(metrics.recall_score(y_test, predicted, average='macro')))"
   ]
  },
  {
   "cell_type": "code",
   "execution_count": null,
   "metadata": {},
   "outputs": [],
   "source": [
    "from sklearn.svm import SVC\n",
    "clf = SVC().fit(X_train, y_train)\n",
    "predicted= clf.predict(X_test)\n",
    "print(\"SVM Accuracy:\",metrics.accuracy_score(y_test, predicted))\n",
    "print(\"Precision: \" + str(metrics.precision_score(y_test, predicted, average='macro')))\n",
    "print(\"Recall: \" + str(metrics.recall_score(y_test, predicted, average='macro')))"
   ]
  }
 ],
 "metadata": {
  "interpreter": {
   "hash": "e7370f93d1d0cde622a1f8e1c04877d8463912d04d973331ad4851f04de6915a"
  },
  "kernelspec": {
   "display_name": "Python 3.9.7 64-bit",
   "name": "python3"
  },
  "language_info": {
   "codemirror_mode": {
    "name": "ipython",
    "version": 3
   },
   "file_extension": ".py",
   "mimetype": "text/x-python",
   "name": "python",
   "nbconvert_exporter": "python",
   "pygments_lexer": "ipython3",
   "version": "3.9.7"
  },
  "orig_nbformat": 4
 },
 "nbformat": 4,
 "nbformat_minor": 2
}
